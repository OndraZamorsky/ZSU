{
  "cells": [
    {
      "cell_type": "markdown",
      "metadata": {
        "id": "km4vmrl4LXmW"
      },
      "source": [
        "# Fundamentals of Machine Learning - Exercise 2\n",
        "* The aim of the exercise is to learn basic techniques for visualization creation and interpretation using Matplotlib and Seaborn libraries.\n",
        "\n",
        "![meme02](https://github.com/rasvob/VSB-FEI-Fundamentals-of-Machine-Learning-Exercises/blob/master/images/fml_02_meme_02.png?raw=true)"
      ]
    },
    {
      "cell_type": "markdown",
      "metadata": {
        "id": "l9hHDMhFjshW",
        "tags": []
      },
      "source": [
        "# Exploratory data analysis\n",
        "\n",
        "Data source: https://www.kaggle.com/c/house-prices-advanced-regression-techniques/data\n",
        "\n",
        "Important attributes description:\n",
        "* SalePrice: The property's sale price in dollars. This is the target variable that you're trying to predict.\n",
        "* MSSubClass: The building class\n",
        "* BldgType: Type of dwelling\n",
        "* HouseStyle: Style of dwelling\n",
        "* OverallQual: Overall material and finish quality\n",
        "* OverallCond: Overall condition rating\n",
        "* YearBuilt: Original construction date\n",
        "* Heating: Type of heating\n",
        "* CentralAir: Central air conditioning\n",
        "* GrLivArea: Above grade (ground) living area square feet\n",
        "* BedroomAbvGr: Number of bedrooms above basement level"
      ]
    },
    {
      "cell_type": "markdown",
      "metadata": {
        "tags": [],
        "id": "dnVw3kVjLXmX"
      },
      "source": [
        "## Import used packages"
      ]
    },
    {
      "cell_type": "code",
      "execution_count": null,
      "metadata": {
        "id": "FVFwXLhL75FZ"
      },
      "outputs": [],
      "source": [
        "import pandas as pd # dataframes\n",
        "import numpy as np # matrices and linear algebra\n",
        "import matplotlib.pyplot as plt # plotting\n",
        "import seaborn as sns # another matplotlib interface - styled and easier to use"
      ]
    },
    {
      "cell_type": "markdown",
      "metadata": {
        "id": "ikTu9Cy8LXmY"
      },
      "source": [
        "## Load the data into the Pandas DataFrame - in our case it is a csv file\n",
        "* https://raw.githubusercontent.com/rasvob/VSB-FEI-Fundamentals-of-Machine-Learning-Exercises/master/datasets/zsu_cv1_data.csv"
      ]
    },
    {
      "cell_type": "code",
      "execution_count": null,
      "metadata": {
        "id": "AkChUemTLXmY"
      },
      "outputs": [],
      "source": []
    },
    {
      "cell_type": "markdown",
      "metadata": {
        "id": "S29_M3RxLXmY"
      },
      "source": [
        "## Price is the most interisting attribute in our dataset, let's take a look on its distribution\n",
        "- SalePrice"
      ]
    },
    {
      "cell_type": "markdown",
      "metadata": {
        "id": "FEaIBluxLXmY"
      },
      "source": [
        "## Vizualize house prices in form of histogram\n",
        "- What does it tell us about the prices?"
      ]
    },
    {
      "cell_type": "code",
      "execution_count": null,
      "metadata": {
        "tags": [],
        "id": "iOfMNAUNLXmY"
      },
      "outputs": [],
      "source": []
    },
    {
      "cell_type": "markdown",
      "metadata": {
        "id": "cUX9uXu_LXmY"
      },
      "source": [
        "### Modify bins\n",
        "- Perhaps we want to visualize the histogram with more dense or coarse bins\n",
        "- *bins* attribute"
      ]
    },
    {
      "cell_type": "code",
      "execution_count": null,
      "metadata": {
        "id": "vgQOZFlLLXmY"
      },
      "outputs": [],
      "source": []
    },
    {
      "cell_type": "markdown",
      "metadata": {
        "id": "XPPcjU7nLXmY"
      },
      "source": [
        "### Use quartiles (Q1, Q3) for highlighting most common price range in histogram\n",
        "\n",
        "* Check functions *describe* and *quantile* over price column"
      ]
    },
    {
      "cell_type": "code",
      "execution_count": null,
      "metadata": {
        "id": "zUJO6dMKLXmY"
      },
      "outputs": [],
      "source": []
    },
    {
      "cell_type": "code",
      "execution_count": null,
      "metadata": {
        "id": "nj733XVDLXmY"
      },
      "outputs": [],
      "source": []
    },
    {
      "cell_type": "markdown",
      "metadata": {
        "tags": [],
        "id": "dvNal91gLXmY"
      },
      "source": [
        "## 🔎 What can we say about prices based on the quantiles?\n",
        "### Use function *axvline* from Matplotlib to draw vertical lines at the quartile positions"
      ]
    },
    {
      "cell_type": "code",
      "execution_count": null,
      "metadata": {
        "id": "BW4wY8DSLXmZ"
      },
      "outputs": [],
      "source": []
    },
    {
      "cell_type": "markdown",
      "metadata": {
        "tags": [],
        "id": "LDtkXRT5LXmZ"
      },
      "source": [
        "## 📊 Let's add more complexity to histogram vizualizations.\n",
        "### Does price change for different values of GaragaFinish attribute?\n",
        "\n",
        "### GarageFinish: Interior finish of the garage\n",
        "- Fin\tFinished\n",
        "- RFn\tRough Finished\n",
        "- Unf\tUnfinished\n",
        "- NA\tNo Garage"
      ]
    },
    {
      "cell_type": "code",
      "execution_count": null,
      "metadata": {
        "id": "I9HrQ6_HLXmZ"
      },
      "outputs": [],
      "source": []
    },
    {
      "cell_type": "markdown",
      "metadata": {
        "id": "PuQXoKpbLXmZ"
      },
      "source": [
        "### 💡 We can see that houses with no garage are somehow missing\n",
        "- The no garage houses have a *nan* value in the feature so they are not plotted"
      ]
    },
    {
      "cell_type": "markdown",
      "metadata": {
        "id": "-52Ki8bxLXmZ"
      },
      "source": [
        "### Fill nan values with 'NoGarage' string"
      ]
    },
    {
      "cell_type": "code",
      "execution_count": null,
      "metadata": {
        "id": "PpNUb9I7LXmZ"
      },
      "outputs": [],
      "source": []
    },
    {
      "cell_type": "markdown",
      "metadata": {
        "id": "3_wPuA_SLXmZ"
      },
      "source": [
        "### Take a look at the histogram again"
      ]
    },
    {
      "cell_type": "code",
      "execution_count": null,
      "metadata": {
        "id": "98o2XbMTLXmZ"
      },
      "outputs": [],
      "source": []
    },
    {
      "cell_type": "markdown",
      "metadata": {
        "id": "7M_4uLswLXmZ"
      },
      "source": [
        "## 💡 Sometimes the histograms distinguished by colors are not easily redeable\n",
        "- We can use *col* attribute to automatically plot every histogram on its own canvas"
      ]
    },
    {
      "cell_type": "code",
      "execution_count": null,
      "metadata": {
        "id": "I71IF2AVLXmZ"
      },
      "outputs": [],
      "source": []
    },
    {
      "cell_type": "markdown",
      "metadata": {
        "tags": [],
        "id": "872OGJ5PLXmZ"
      },
      "source": [
        "# 📊 Another very useful tecnique for the numerical features distributions are boxplots\n",
        "- 🔎 Did you see any of these before?\n",
        "\n",
        "- 🔎 How should we read boxplots?\n",
        "    - **Quartiles**\n",
        "    - **Median**\n",
        "    - Box size\n",
        "    - **Outliers and IQR**\n",
        "    - Min/max - with or without outliers"
      ]
    },
    {
      "cell_type": "markdown",
      "metadata": {
        "id": "ubxhLUNILXmZ"
      },
      "source": [
        "### Plot only the *SalePrice* using boxplot"
      ]
    },
    {
      "cell_type": "code",
      "execution_count": null,
      "metadata": {
        "id": "6MGgpkoeLXmZ"
      },
      "outputs": [],
      "source": []
    },
    {
      "cell_type": "markdown",
      "metadata": {
        "tags": [],
        "id": "79fhq33fLXmZ"
      },
      "source": [
        "## Let's take a look at the *SalePrice* for different *BldgType* values\n",
        "- 🔎 What can we say about the prices?"
      ]
    },
    {
      "cell_type": "code",
      "execution_count": null,
      "metadata": {
        "id": "QBY-IkvXLXma"
      },
      "outputs": [],
      "source": []
    },
    {
      "cell_type": "markdown",
      "metadata": {
        "id": "id3v2WfRLXma"
      },
      "source": [
        "## We can do the same for *GrLivArea*"
      ]
    },
    {
      "cell_type": "code",
      "execution_count": null,
      "metadata": {
        "id": "3uhqafEWLXma"
      },
      "outputs": [],
      "source": []
    },
    {
      "cell_type": "markdown",
      "metadata": {
        "tags": [],
        "id": "C-gGKhG4LXma"
      },
      "source": [
        "## Let's take a look at the *GrLivArea* for different *BldgType* values\n",
        "- 🔎 What can we say about the GrLivArea?"
      ]
    },
    {
      "cell_type": "code",
      "execution_count": null,
      "metadata": {
        "id": "SmwqGUdQLXma"
      },
      "outputs": [],
      "source": []
    },
    {
      "cell_type": "markdown",
      "metadata": {
        "id": "A6qm5Ce7LXma"
      },
      "source": [
        "# 📊 Scatter plots are commonly used for visualizing two numerical variables"
      ]
    },
    {
      "cell_type": "markdown",
      "metadata": {
        "id": "OxzZOnZQLXma"
      },
      "source": [
        "### We can use standard *scatterplot* with *BldgType* as a *hue* so we can better grasp the relationship between *GrLivArea* and *SalePrice*\n",
        "* Try to set *alpha* parameter for opacity settings"
      ]
    },
    {
      "cell_type": "code",
      "execution_count": null,
      "metadata": {
        "id": "9Q7YsLRVLXma"
      },
      "outputs": [],
      "source": []
    },
    {
      "cell_type": "markdown",
      "metadata": {
        "id": "S8gYieu7LXma"
      },
      "source": [
        "### We can see there are some outliers in the data, let's zoom only to area without them, how can we filter the data?"
      ]
    },
    {
      "cell_type": "code",
      "execution_count": null,
      "metadata": {
        "id": "pKBQt9l0LXma"
      },
      "outputs": [],
      "source": []
    },
    {
      "cell_type": "markdown",
      "metadata": {
        "id": "x5gFQfY7LXma"
      },
      "source": [
        "# We have an information about a month and a year for the sold houses.\n",
        "## 🔎 Can you vizualize what was the average price of the house by quarters?\n",
        "\n",
        "* We need to create a new column **YearQuarterSold** with merged Year and Quarter information in this pattern: '2010-1','2010-2' and so on first\n",
        "    * We can map the values using the *apply* function or use string concatenation directly\n",
        "* 💡 If you need to change data type of the columns, you can use *astype*"
      ]
    },
    {
      "cell_type": "code",
      "execution_count": null,
      "metadata": {
        "id": "DMr9upSQLXma"
      },
      "outputs": [],
      "source": []
    },
    {
      "cell_type": "markdown",
      "metadata": {
        "id": "jIGw_tdSLXma"
      },
      "source": [
        "### Compute the average price for the *YearQuarterSold* attribute"
      ]
    },
    {
      "cell_type": "code",
      "execution_count": null,
      "metadata": {
        "id": "C-UDEsylLXma"
      },
      "outputs": [],
      "source": []
    },
    {
      "cell_type": "markdown",
      "metadata": {
        "id": "wBiJLAr3LXmb"
      },
      "source": [
        "## Vizualize the data using *lineplot*\n",
        "- In case of xlabels mixing try to tune the *rotation* and *horizontalalignment* parameters"
      ]
    },
    {
      "cell_type": "code",
      "execution_count": null,
      "metadata": {
        "scrolled": true,
        "id": "nEHSrDF6LXmb"
      },
      "outputs": [],
      "source": []
    },
    {
      "cell_type": "markdown",
      "metadata": {
        "id": "J9kExVz5LXmb"
      },
      "source": [
        "### Add the max, min and median to the plot\n",
        "- Use *describe* and the [Pandas Melt](https://pandas.pydata.org/pandas-docs/stable/reference/api/pandas.melt.html) function\n",
        "    - use YearQuarterSold as an *id_vars*\n",
        "    - use 'min', 'mean', '50%', 'max' as *value_vars*"
      ]
    },
    {
      "cell_type": "code",
      "execution_count": null,
      "metadata": {
        "id": "dc6dFvMdLXmb"
      },
      "outputs": [],
      "source": [
        "df.groupby('YearQuarterSold').SalePrice.describe().reset_index()"
      ]
    },
    {
      "cell_type": "markdown",
      "metadata": {
        "id": "6vAU3BdJLXmb"
      },
      "source": [
        "![meme01](https://github.com/rasvob/VSB-FEI-Fundamentals-of-Machine-Learning-Exercises/blob/master/images/fml_02_meme_01.png?raw=true)"
      ]
    },
    {
      "cell_type": "code",
      "execution_count": null,
      "metadata": {
        "id": "jXUnxbDmLXmb"
      },
      "outputs": [],
      "source": [
        "df_agg = df.groupby('YearQuarterSold').SalePrice.describe().reset_index()\n",
        "df_melt = pd.melt(df_agg, id_vars=['YearQuarterSold'], value_vars=['min', 'mean', '50%', 'max'])\n",
        "df_melt"
      ]
    },
    {
      "cell_type": "markdown",
      "metadata": {
        "id": "ckLqD0X2LXmb"
      },
      "source": [
        "## What can we say about the minimum and maximum values?\n",
        "- 💡Take a look at std. deviation"
      ]
    },
    {
      "cell_type": "code",
      "execution_count": null,
      "metadata": {
        "id": "dgjAph2XLXmb"
      },
      "outputs": [],
      "source": [
        "fig = plt.figure(figsize=(9,6))\n",
        "sns.lineplot(data=df_melt, x='YearQuarterSold', y='value', hue='variable')\n",
        "plt.xticks(rotation=65, horizontalalignment='right')\n",
        "plt.show()"
      ]
    },
    {
      "cell_type": "markdown",
      "metadata": {
        "id": "sOUtyLkoLXmb"
      },
      "source": [
        "# We can take a look at number of sold houses for the defined time periods as well\n",
        "## 📊 We will use standard bar plot\n",
        "- 🔎 In which quarter were the most houses sold?\n",
        "- 💡 Fun facts: [https://themortgagereports.com/44135/whats-the-best-time-of-year-to-sell-a-home](https://themortgagereports.com/44135/whats-the-best-time-of-year-to-sell-a-home)"
      ]
    },
    {
      "cell_type": "code",
      "execution_count": null,
      "metadata": {
        "id": "QaLF1TGSLXmb"
      },
      "outputs": [],
      "source": []
    },
    {
      "cell_type": "code",
      "execution_count": null,
      "metadata": {
        "id": "e0n-YO5GLXmb"
      },
      "outputs": [],
      "source": []
    },
    {
      "cell_type": "markdown",
      "metadata": {
        "tags": [],
        "id": "51io3595LXmb"
      },
      "source": [
        "# Tasks (2p)\n",
        "## ✅ Task 1 - Outlier detection (1p)\n",
        "- We need to somehow mark the outliers in the data according to the *SalePrice* and *GrLivArea*\n",
        "    - One possibility is to compute [IQR](https://www.statisticshowto.com/probability-and-statistics/interquartile-range/) for both columns and mark outliers using lower and upper bounds\n",
        "    - Lower bound: Q1 - 1.5*IQR\n",
        "    - Upper bound: Q3 + 1.5*IQR\n",
        "- 💡 If the house has *SalePrice* **OR** *GrLivArea* value outside of the bounds - it is an outlier\n",
        "- Vizualize the data using scatter plot and distinguish the outlier and non-outlier data using different colors (*hue*) 💡\n",
        "\n",
        "## ✅ Task 2 - Describe what you see in the data (1p)\n",
        "- Try to vizualize the relationship between *SalePrice* and *OverallQual*\n",
        "    - 💡You can use BoxPlots, Scatter plots, etc., the choice of a right plot type is up to you 🙂\n",
        "- Do the same for *SalePrice* and *OverallCond*; i.e. vizualize and describe insight-\n",
        "- **Describe the insight you got from the plots with a few sentences in a Markdown cell below the plot**\n",
        "    - ❌ Plot interpretation figured in real-time during task check is not allowed! ❌"
      ]
    },
    {
      "cell_type": "code",
      "source": [
        "import pandas as pd\n",
        "import seaborn as sns\n",
        "import matplotlib.pyplot as plt\n",
        "\n",
        "# Načtení datasetu přímo z GitHubu\n",
        "url = \"https://raw.githubusercontent.com/rasvob/VSB-FEI-Fundamentals-of-Machine-Learning-Exercises/master/datasets/zsu_cv1_data.csv\"\n",
        "df = pd.read_csv(url)\n",
        "\n",
        "# Funkce pro označení outlierů podle IQR\n",
        "def detect_outliers(series):\n",
        "    Q1 = series.quantile(0.25)\n",
        "    Q3 = series.quantile(0.75)\n",
        "    IQR = Q3 - Q1\n",
        "    lower = Q1 - 1.5 * IQR\n",
        "    upper = Q3 + 1.5 * IQR\n",
        "    return (series < lower) | (series > upper)\n",
        "\n",
        "# Najdi outliery v obou sloupcích\n",
        "outliers_saleprice = detect_outliers(df[\"SalePrice\"])\n",
        "outliers_grlivarea = detect_outliers(df[\"GrLivArea\"])\n",
        "\n",
        "# Pokud je aspoň v jednom sloupci outlier → označíme jako outlier\n",
        "df[\"Outlier\"] = outliers_saleprice | outliers_grlivarea\n",
        "\n",
        "# Scatter plot\n",
        "plt.figure(figsize=(10,6))\n",
        "sns.scatterplot(\n",
        "    data=df,\n",
        "    x=\"GrLivArea\",\n",
        "    y=\"SalePrice\",\n",
        "    hue=\"Outlier\",\n",
        "    palette={True: \"red\", False: \"blue\"}\n",
        ")\n",
        "plt.title(\"Outlier Detection in Housing Data\")\n",
        "plt.show()\n"
      ],
      "metadata": {
        "colab": {
          "base_uri": "https://localhost:8080/",
          "height": 564
        },
        "id": "P3tbbEdELY1c",
        "outputId": "fefc3091-b81d-402f-f91d-40c53b938585"
      },
      "execution_count": 5,
      "outputs": [
        {
          "output_type": "display_data",
          "data": {
            "text/plain": [
              "<Figure size 1000x600 with 1 Axes>"
            ],
            "image/png": "[encoded data removed]"
          },
          "metadata": {}
        }
      ]
    }
  ],
  "metadata": {
    "colab": {
      "name": "ZSU_cv1_introduction_jupyter_pandas_visualization.ipynb",
      "provenance": []
    },
    "kernelspec": {
      "display_name": "Python 3 (ipykernel)",
      "language": "python",
      "name": "python3"
    },
    "language_info": {
      "codemirror_mode": {
        "name": "ipython",
        "version": 3
      },
      "file_extension": ".py",
      "mimetype": "text/x-python",
      "name": "python",
      "nbconvert_exporter": "python",
      "pygments_lexer": "ipython3",
      "version": "3.10.8"
    }
  },
  "nbformat": 4,
  "nbformat_minor": 0
}